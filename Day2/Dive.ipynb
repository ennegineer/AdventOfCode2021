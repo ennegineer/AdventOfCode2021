{
 "cells": [
  {
   "cell_type": "code",
   "execution_count": 12,
   "metadata": {},
   "outputs": [],
   "source": [
    "import os\n",
    "import csv\n",
    "\n",
    "directions = os.path.join('.','directions.csv')\n",
    "\n",
    "path = []\n",
    "with open(directions, 'r') as input:\n",
    "    csvreader = csv.reader(input, delimiter=' ')\n",
    "    header = next(csvreader)\n",
    "    \n",
    "    for row in csvreader:\n",
    "        path.append(row)\n",
    "        #print(row)"
   ]
  },
  {
   "cell_type": "code",
   "execution_count": 11,
   "metadata": {},
   "outputs": [
    {
     "name": "stdout",
     "output_type": "stream",
     "text": [
      "1911\n",
      "724\n",
      "1383564\n"
     ]
    }
   ],
   "source": [
    "xpos = 0\n",
    "ypos = 0\n",
    "\n",
    "for row in path:\n",
    "    if row[0] == 'forward':\n",
    "        xpos = xpos + int(row[1])\n",
    "    if row[0] == 'down':\n",
    "        ypos = ypos + int(row[1])\n",
    "    if row[0] == 'up':\n",
    "        ypos = ypos - int(row[1])\n",
    "print(xpos)\n",
    "print(ypos)\n",
    "\n",
    "answer = xpos * ypos\n",
    "print(answer)"
   ]
  },
  {
   "cell_type": "code",
   "execution_count": 14,
   "metadata": {},
   "outputs": [
    {
     "name": "stdout",
     "output_type": "stream",
     "text": [
      "1911\n",
      "778813\n",
      "1488311643\n"
     ]
    }
   ],
   "source": [
    "xpos = 0\n",
    "ypos = 0\n",
    "aim = 0\n",
    "\n",
    "for row in path:\n",
    "    if row[0] == 'forward':\n",
    "        xpos = xpos + int(row[1])\n",
    "        ypos = ypos + (aim * int(row[1]))\n",
    "    if row[0] == 'down':\n",
    "        aim = aim + int(row[1])\n",
    "    if row[0] == 'up':\n",
    "        aim = aim - int(row[1])\n",
    "print(xpos)\n",
    "print(ypos)\n",
    "\n",
    "answer = xpos * ypos\n",
    "print(answer)"
   ]
  },
  {
   "cell_type": "code",
   "execution_count": null,
   "metadata": {},
   "outputs": [],
   "source": []
  }
 ],
 "metadata": {
  "kernelspec": {
   "display_name": "Python 3",
   "language": "python",
   "name": "python3"
  },
  "language_info": {
   "codemirror_mode": {
    "name": "ipython",
    "version": 3
   },
   "file_extension": ".py",
   "mimetype": "text/x-python",
   "name": "python",
   "nbconvert_exporter": "python",
   "pygments_lexer": "ipython3",
   "version": "3.8.3"
  }
 },
 "nbformat": 4,
 "nbformat_minor": 4
}
